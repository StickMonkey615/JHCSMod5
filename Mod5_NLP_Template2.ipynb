{
  "cells": [
    {
      "cell_type": "markdown",
      "metadata": {
        "id": "view-in-github",
        "colab_type": "text"
      },
      "source": [
        "<a href=\"https://colab.research.google.com/github/StickMonkey615/JHCSMod5/blob/main/Mod5_NLP_Template2.ipynb\" target=\"_parent\"><img src=\"https://colab.research.google.com/assets/colab-badge.svg\" alt=\"Open In Colab\"/></a>"
      ]
    },
    {
      "cell_type": "code",
      "metadata": {
        "id": "n8_8xLvOK4AS"
      },
      "source": [
        "# This provides a framework for functions that will be tested as part of module 5 NLP\n",
        "# You should test your submissions against the cases listed below, they will then be \n",
        "# tested against further unseen cases before being reviewed manually."
      ],
      "execution_count": null,
      "outputs": []
    },
    {
      "cell_type": "markdown",
      "metadata": {
        "id": "luyWe9n6K_u5"
      },
      "source": [
        "**THE ASSIGNMENT**\n",
        "\n",
        "Populate the notebook below to create functions that achieve the following tasks.\n",
        "They must also pass the tests included at the bottom of the notebook. \n",
        "**Part 1**: produce a scraper function that can return the following information when given a URL from the BBC news page.  This function must be iterable - it can be used in a loop to examine a number of URLs and return the following information as a JSON.\n",
        "\n",
        "a) URL (provided.  For example https://www.bbc.co.uk/news/uk-51004218)\n",
        "\n",
        "b) Title\n",
        "\n",
        "c) Date\n",
        "\n",
        "d) Content (the main body of article)\n",
        "\n",
        "**Part 2**:  Write a function that when given a block of text (as a string)  returns all the following entities in a json object,  It is suggested that you use a pre-built or custom entity recogniser rather than a rules based method.  There are entity recognisers in the following python packages: NLTK, spacy\n",
        "\n",
        "a) people\n",
        "\n",
        "b) places\n",
        "\n",
        "c) organisations \n",
        "\n",
        "**CONSTRAINTS**\n",
        "The code must run in Google Colab.\n",
        "\n",
        "Do not change the name of the functions or their inputs.\n",
        "\n",
        "Your functions will be expected to return outputs as specified in the template functions.\n",
        "\n",
        "You may add additional functions as desired.\n",
        "\n",
        "Do not change the test cases at the bottom."
      ]
    },
    {
      "cell_type": "code",
      "metadata": {
        "id": "0kV2yn3KLU68"
      },
      "source": [
        "#Do not chance these dependencies\n",
        "import pytest\n",
        "# Import your dependencies here\n",
        "import requests\n",
        "from bs4 import BeautifulSoup\n",
        "import json\n",
        "import re\n",
        "import spacy\n",
        "\n",
        "# pip install spacy\n",
        "# python -m spacy download en_core_web_sm\n",
        "nlp = spacy.load(\"en_core_web_sm\")"
      ],
      "execution_count": 1,
      "outputs": []
    },
    {
      "cell_type": "code",
      "metadata": {
        "id": "auv9_6KdK8HS"
      },
      "source": [
        "def bbc_scraper(url):\n",
        "    \"\"\"\n",
        "    This function should take a url, which will relate to a bbc news article \n",
        "    and return a json object containing the following fields:\n",
        "    1) URL (provided.  For example https://www.bbc.co.uk/news/uk-51004218)\n",
        "    2) Title\n",
        "    3) Date_published\n",
        "    4) Content --(the main body of article, this must be one continuous string without linebreaks)\n",
        "    The function must be iterable (If placed in a for loop and provided with several URLs in \n",
        "    turn return the correct json object for each time it is invoked without any manual intervention)\n",
        "    \"\"\"\n",
        "    # Reset all dictionaries to blank\n",
        "    result = {}\n",
        "    url_dict = {}\n",
        "    title_dict = {}\n",
        "    date_dict = {}\n",
        "    content_dict = {}\n",
        "\n",
        "    page = requests.get(url)\n",
        "    soup = BeautifulSoup(page.content, 'html5lib')\n",
        "\n",
        "    # get URL\n",
        "    url_dict = {'URL': url}\n",
        "\n",
        "    # get title\n",
        "    title_text = (soup.find('title').text).removesuffix(' - BBC News')\n",
        "#    title_text = (soup.find('title').text).removesuffix(' - BBC News').replace(\"'\", r\"\\'\")\n",
        "    title_dict = {'Title': title_text}\n",
        "\n",
        "    # get date\n",
        "    date_dict = {'Date_published': soup.find('time').get_text()}\n",
        "\n",
        "    # get content\n",
        "    extract = soup.main.article.find_all('div', attrs={'data-component': \"text-block\"})\n",
        "    extract_text = ''\n",
        "    for item in extract:\n",
        "        extract_text += item.get_text()\n",
        "        extract_text += ' '\n",
        "        extract_text = re.sub(' +', ' ', extract_text)\n",
        "#    extract_text = (re.sub(' +', ' ', extract_text)).replace(\"'\", r\"\\'\")\n",
        "    content_dict = {'Content': extract_text.strip()}\n",
        "\n",
        "    # combine all dicts\n",
        "    result = {**url_dict, **title_dict, **date_dict, **content_dict}\n",
        "    results_json = json.dumps(result)\n",
        "    return results_json"
      ],
      "execution_count": 2,
      "outputs": []
    },
    {
      "cell_type": "code",
      "metadata": {
        "id": "FDvLnOzZK79s"
      },
      "source": [
        "def extract_entities(string):\n",
        "    \"\"\"\n",
        "    This function should return a json containing the:\n",
        "    1) People\n",
        "    2) Places\n",
        "    3) Organisations \n",
        "    in the text string provided.\n",
        "    \"\"\"\n",
        "\n",
        "    doc = nlp(string)\n",
        "    entities = {\"people\": [], \"places\": [], \"organisations\": []}\n",
        "    for ent in doc.ents:\n",
        "        if ent.label_ == \"PERSON\":\n",
        "            entities[\"people\"].append(ent.text)\n",
        "        elif ent.label_ == \"GPE\":\n",
        "            entities[\"places\"].append(ent.text)\n",
        "        elif ent.label_ == \"ORG\":\n",
        "            entities[\"organisations\"].append(ent.text)\n",
        "\n",
        "    entities_json = json.dumps(entities)\n",
        "    \n",
        "    return entities_json"
      ],
      "execution_count": 3,
      "outputs": []
    },
    {
      "cell_type": "code",
      "metadata": {
        "id": "iuiH-IhIK73H"
      },
      "source": [
        "####################################################################\n",
        "# Test cases\n",
        "\n",
        "def test_bbc_scrape():\n",
        "    results = {'URL': 'https://www.bbc.co.uk/news/uk-52255054',\n",
        "                'Title': 'Coronavirus: \\'We need Easter as much as ever,\\' says the Queen',\n",
        "                'Date_published': '11 April 2020',\n",
        "                'Content': '\"Coronavirus will not overcome us,\" the Queen has said, in an Easter message to the nation. While celebrations would be different for many this year, she said: \"We need Easter as much as ever.\" Referencing the tradition of lighting candles to mark the occasion, she said: \"As dark as death can be - particularly for those suffering with grief - light and life are greater.\" It comes as the number of coronavirus deaths in UK hospitals reached 9,875. Speaking from Windsor Castle, the Queen said many religions had festivals celebrating light overcoming darkness, which often featured the lighting of candles. She said: \"They seem to speak to every culture, and appeal to people of all faiths, and of none. \"They are lit on birthday cakes and to mark family anniversaries, when we gather happily around a source of light. It unites us.\" The monarch, who is head of the Church of England, said: \"As darkness falls on the Saturday before Easter Day, many Christians would normally light candles together.  \"In church, one light would pass to another, spreading slowly and then more rapidly as more candles are lit. It\\'s a way of showing how the good news of Christ\\'s resurrection has been passed on from the first Easter by every generation until now.\" As far as we know, this is the first time the Queen has released an Easter message. And coming as it does less than a week since the televised broadcast to the nation, it underlines the gravity of the situation as it is regarded by the monarch. It serves two purposes really; it is underlining the government\\'s public safety message, acknowledging Easter will be difficult for us but by keeping apart we keep others safe, and the broader Christian message of hope and reassurance.  We know how important her Christian faith is, and coming on the eve of Easter Sunday, it is clearly a significant time for people of all faiths, but particularly Christian faith. She said the discovery of the risen Christ on the first Easter Day gave his followers new hope and fresh purpose, adding that we could all take heart from this.  Wishing everyone of all faiths and denominations a blessed Easter, she said: \"May the living flame of the Easter hope be a steady guide as we face the future.\" The Queen, 93, recorded the audio message in the White Drawing Room at Windsor Castle, with one sound engineer in the next room.  The Palace described it as \"Her Majesty\\'s contribution to those who are celebrating Easter privately\".  It follows a speech on Sunday, in which the monarch delivered a rallying message to the nation. In it, she said the UK \"will succeed\" in its fight against the coronavirus pandemic, thanked people for following government rules about staying at home and praised those \"coming together to help others\". She also thanked key workers, saying \"every hour\" of work \"brings us closer to a return to more normal times\".'}\n",
        "    scraper_result = bbc_scraper('https://www.bbc.co.uk/news/uk-52255054')\n",
        "    assert json.loads(scraper_result) == results\n",
        "\n",
        "\n",
        "def test_extract_entities_amazon_org():\n",
        "    input_string = \"I work for Amazon.\"\n",
        "    results_dict = {'people':[],\n",
        "                    'places':[],\n",
        "                    'organisations': ['Amazon']\n",
        "                    }\n",
        "    extracted_entities_results = extract_entities(input_string)\n",
        "    assert json.loads(extracted_entities_results) == results_dict\n",
        "\n",
        "\n",
        "def test_extract_entities_name():\n",
        "    input_string = \"My name is Bob\"\n",
        "    results_dict = {'people':['Bob'],\n",
        "                    'places':[],\n",
        "                    'organisations': []\n",
        "                    }\n",
        "    extracted_entities_results = extract_entities(input_string)\n",
        "    assert json.loads(extracted_entities_results) == results_dict"
      ],
      "execution_count": 4,
      "outputs": []
    },
    {
      "cell_type": "code",
      "metadata": {
        "id": "-EtNG-mJK7pt",
        "colab": {
          "base_uri": "https://localhost:8080/",
          "height": 495
        },
        "outputId": "31a67721-6859-41ba-98db-003be2333076"
      },
      "source": [
        "test_bbc_scrape()\n",
        "test_extract_entities_amazon_org()\n",
        "test_extract_entities_name()"
      ],
      "execution_count": 5,
      "outputs": [
        {
          "output_type": "error",
          "ename": "AssertionError",
          "evalue": "ignored",
          "traceback": [
            "\u001b[0;31m---------------------------------------------------------------------------\u001b[0m",
            "\u001b[0;31mAssertionError\u001b[0m                            Traceback (most recent call last)",
            "\u001b[0;32m<ipython-input-5-4cffb4818076>\u001b[0m in \u001b[0;36m<cell line: 1>\u001b[0;34m()\u001b[0m\n\u001b[0;32m----> 1\u001b[0;31m \u001b[0mtest_bbc_scrape\u001b[0m\u001b[0;34m(\u001b[0m\u001b[0;34m)\u001b[0m\u001b[0;34m\u001b[0m\u001b[0;34m\u001b[0m\u001b[0m\n\u001b[0m\u001b[1;32m      2\u001b[0m \u001b[0mtest_extract_entities_amazon_org\u001b[0m\u001b[0;34m(\u001b[0m\u001b[0;34m)\u001b[0m\u001b[0;34m\u001b[0m\u001b[0;34m\u001b[0m\u001b[0m\n\u001b[1;32m      3\u001b[0m \u001b[0mtest_extract_entities_name\u001b[0m\u001b[0;34m(\u001b[0m\u001b[0;34m)\u001b[0m\u001b[0;34m\u001b[0m\u001b[0;34m\u001b[0m\u001b[0m\n",
            "\u001b[0;32m<ipython-input-4-d8332727e3b0>\u001b[0m in \u001b[0;36mtest_bbc_scrape\u001b[0;34m()\u001b[0m\n\u001b[1;32m      8\u001b[0m                 'Content': '\"Coronavirus will not overcome us,\" the Queen has said, in an Easter message to the nation. While celebrations would be different for many this year, she said: \"We need Easter as much as ever.\" Referencing the tradition of lighting candles to mark the occasion, she said: \"As dark as death can be - particularly for those suffering with grief - light and life are greater.\" It comes as the number of coronavirus deaths in UK hospitals reached 9,875. Speaking from Windsor Castle, the Queen said many religions had festivals celebrating light overcoming darkness, which often featured the lighting of candles. She said: \"They seem to speak to every culture, and appeal to people of all faiths, and of none. \"They are lit on birthday cakes and to mark family anniversaries, when we gather happily around a source of light. It unites us.\" The monarch, who is head of the Church of England, said: \"As darkness falls on the Saturday before Easter Day, many Christians would normally light candles together.  \"In church, one light would pass to another, spreading slowly and then more rapidly as more candles are lit. It\\'s a way of showing how the good news of Christ\\'s resurrection has been passed on from the first Easter by every generation until now.\" As far as we know, this is the first time the Queen has released an Easter message. And coming as it does less than a week since the televised broadcast to the nation, it underlines the gravity of t...\n\u001b[1;32m      9\u001b[0m     \u001b[0mscraper_result\u001b[0m \u001b[0;34m=\u001b[0m \u001b[0mbbc_scraper\u001b[0m\u001b[0;34m(\u001b[0m\u001b[0;34m'https://www.bbc.co.uk/news/uk-52255054'\u001b[0m\u001b[0;34m)\u001b[0m\u001b[0;34m\u001b[0m\u001b[0;34m\u001b[0m\u001b[0m\n\u001b[0;32m---> 10\u001b[0;31m     \u001b[0;32massert\u001b[0m \u001b[0mjson\u001b[0m\u001b[0;34m.\u001b[0m\u001b[0mloads\u001b[0m\u001b[0;34m(\u001b[0m\u001b[0mscraper_result\u001b[0m\u001b[0;34m)\u001b[0m \u001b[0;34m==\u001b[0m \u001b[0mresults\u001b[0m\u001b[0;34m\u001b[0m\u001b[0;34m\u001b[0m\u001b[0m\n\u001b[0m\u001b[1;32m     11\u001b[0m \u001b[0;34m\u001b[0m\u001b[0m\n\u001b[1;32m     12\u001b[0m \u001b[0;34m\u001b[0m\u001b[0m\n",
            "\u001b[0;31mAssertionError\u001b[0m: "
          ]
        }
      ]
    }
  ],
  "metadata": {
    "colab": {
      "name": "Mod5_NLP_Template.ipynb",
      "provenance": [],
      "include_colab_link": true
    },
    "kernelspec": {
      "name": "python3",
      "display_name": "Python 3"
    }
  },
  "nbformat": 4,
  "nbformat_minor": 0
}